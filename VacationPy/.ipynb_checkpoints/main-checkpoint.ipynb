{
 "cells": [
  {
   "cell_type": "markdown",
   "metadata": {},
   "source": [
    "# Selecte future vacation destination based on weather"
   ]
  },
  {
   "cell_type": "code",
   "execution_count": null,
   "metadata": {},
   "outputs": [],
   "source": [
    " # Dependencies and Setup\n",
    "import matplotlib.pyplot as plt\n",
    "import pandas as pd\n",
    "import numpy as np\n",
    "import requests\n",
    "import gmaps\n",
    "import os\n",
    "\n",
    "# Import API key\n",
    "from api_keys import g_key1\n",
    "\n",
    "#config gmaps\n",
    "gmaps.configure(api_key=g_key1)"
   ]
  },
  {
   "cell_type": "code",
   "execution_count": 2,
   "metadata": {},
   "outputs": [],
   "source": [
    "#Generate dataframe for cities\n",
    "city_file = os.path.join(\"..\",\"WeatherPy\",\"output_data\",\"cities.csv\")\n",
    "cities_df = pd.read_csv(city_file,delimiter = \",\")\n",
    "cities_df[\"Max Temp\"]=(cities_df[\"Max Temp\"]-273.15)*9/5+32\n",
    "max_inten = int(cities_df[\"Humidity\"].max())"
   ]
  },
  {
   "cell_type": "code",
   "execution_count": 3,
   "metadata": {},
   "outputs": [],
   "source": [
    "# Store latitude and longitude in locations\n",
    "locations = cities_df[[\"Lat\", \"Lng\"]]\n",
    "\n",
    "# set weight as humidity\n",
    "weight = cities_df[\"Humidity\"]"
   ]
  },
  {
   "cell_type": "markdown",
   "metadata": {},
   "source": [
    "## Generate Humidity Heat map for all the randomly selected cities"
   ]
  },
  {
   "cell_type": "code",
   "execution_count": 4,
   "metadata": {},
   "outputs": [
    {
     "data": {
      "application/vnd.jupyter.widget-view+json": {
       "model_id": "3809d224812b4a8bad681f469e62dc50",
       "version_major": 2,
       "version_minor": 0
      },
      "text/plain": [
       "Figure(layout=FigureLayout(height='420px'))"
      ]
     },
     "metadata": {},
     "output_type": "display_data"
    }
   ],
   "source": [
    "# Plot Heatmap\n",
    "fig = gmaps.figure()\n",
    "\n",
    "# Create himidity layer\n",
    "humidity_layer = gmaps.heatmap_layer(locations, weights=weight, \n",
    "                                 dissipating=False, max_intensity=max_inten,\n",
    "                                 point_radius=3)\n",
    "\n",
    "# Add layer\n",
    "fig.add_layer(humidity_layer)\n",
    "\n",
    "# Display figure\n",
    "fig"
   ]
  },
  {
   "cell_type": "code",
   "execution_count": 5,
   "metadata": {},
   "outputs": [],
   "source": [
    "#Select the ideal cities\n",
    "cities_small_df = cities_df.loc[(cities_df[\"Max Temp\"]>70)&(cities_df[\"Max Temp\"]<80)&(cities_df[\"Wind Speed\"]<10)&(cities_df[\"Cloudiness\"]==0),]"
   ]
  },
  {
   "cell_type": "code",
   "execution_count": 6,
   "metadata": {},
   "outputs": [],
   "source": [
    "# Store latitude and longitude in locations\n",
    "locations2 = cities_small_df[[\"Lat\", \"Lng\"]]\n",
    "\n",
    "#get weight as humidity\n",
    "weight2 = cities_small_df[\"Humidity\"]\n",
    "\n",
    "#get hotel data frame\n",
    "hotel_df=cities_small_df[[\"Lat\",\"Lng\",\"City\",\"Country\"]]"
   ]
  },
  {
   "cell_type": "markdown",
   "metadata": {},
   "source": [
    "## Request Hotel information based on selected cities"
   ]
  },
  {
   "cell_type": "code",
   "execution_count": 9,
   "metadata": {},
   "outputs": [
    {
     "name": "stdout",
     "output_type": "stream",
     "text": [
      "Missing field/result... skipping.\n",
      "Missing field/result... skipping.\n"
     ]
    }
   ],
   "source": [
    "# params dictionary to update each iteration\n",
    "params = {\n",
    "    \"radius\": 5000,\n",
    "    \"types\": \"hotel\",\n",
    "    \"keyword\": \"hotels\",\n",
    "    \"key\": g_key1\n",
    "}\n",
    "\n",
    "# Use the lat/lng we recovered to identify airports\n",
    "for index, row in hotel_df.iterrows():\n",
    "    # get lat, lng from df\n",
    "    lat = row[\"Lat\"]\n",
    "    lng = row[\"Lng\"]\n",
    "\n",
    "    # change location each iteration while leaving original params in place\n",
    "    params[\"location\"] = f\"{lat},{lng}\"\n",
    "\n",
    "    # Use the search term: \"Hotel name\" and our lat/lng\n",
    "    base_url = \"https://maps.googleapis.com/maps/api/place/nearbysearch/json\"\n",
    "\n",
    "    # make request and print url\n",
    "    name_address = requests.get(base_url, params=params)\n",
    "\n",
    "    # convert to json\n",
    "    name_address = name_address.json()\n",
    "\n",
    "    # Since some data may be missing we incorporate a try-except to skip any that are missing a data point.\n",
    "    try:\n",
    "        hotel_df.loc[index,\"Hotel Name\"] = name_address[\"results\"][0][\"name\"]\n",
    "    except (KeyError, IndexError):\n",
    "        print(\"Missing field/result... skipping.\")\n",
    "        continue"
   ]
  },
  {
   "cell_type": "code",
   "execution_count": 10,
   "metadata": {},
   "outputs": [],
   "source": [
    "#Clean the hotel data frame\n",
    "hotel_df.dropna(how=\"any\")\n",
    "\n",
    "# Using the template add the hotel marks to the heatmap\n",
    "info_box_template = \"\"\"\n",
    "<dl>\n",
    "<dt>Name</dt><dd>{Hotel Name}</dd>\n",
    "<dt>City</dt><dd>{City}</dd>\n",
    "<dt>Country</dt><dd>{Country}</dd>\n",
    "</dl>\n",
    "\"\"\"\n",
    "# Store the DataFrame Row\n",
    "hotel_info = [info_box_template.format(**row) for index, row in hotel_df.iterrows()]\n",
    "locations = hotel_df[[\"Lat\", \"Lng\"]]"
   ]
  },
  {
   "cell_type": "markdown",
   "metadata": {},
   "source": [
    "## Plot the humidity heat map with hotel informations as an additional layer"
   ]
  },
  {
   "cell_type": "code",
   "execution_count": 12,
   "metadata": {},
   "outputs": [
    {
     "data": {
      "application/vnd.jupyter.widget-view+json": {
       "model_id": "302d2dae559f420393d2db45b4c73f4f",
       "version_major": 2,
       "version_minor": 0
      },
      "text/plain": [
       "Figure(layout=FigureLayout(height='420px'))"
      ]
     },
     "metadata": {},
     "output_type": "display_data"
    }
   ],
   "source": [
    "# Create himidity layer\n",
    "humidity_layer2 = gmaps.heatmap_layer(locations2, weights=weight2, \n",
    "                                 dissipating=False, max_intensity=max_inten,\n",
    "                                 point_radius=3)\n",
    "\n",
    "#create hotal marker layer\n",
    "hotel_layer = gmaps.marker_layer(locations,info_box_content=hotel_info)\n",
    "\n",
    "# Add layer\n",
    "fig2 = gmaps.figure()\n",
    "fig2.add_layer(humidity_layer2)\n",
    "fig2.add_layer(hotel_layer)\n",
    "fig2"
   ]
  }
 ],
 "metadata": {
  "kernelspec": {
   "display_name": "Python 3",
   "language": "python",
   "name": "python3"
  },
  "language_info": {
   "codemirror_mode": {
    "name": "ipython",
    "version": 3
   },
   "file_extension": ".py",
   "mimetype": "text/x-python",
   "name": "python",
   "nbconvert_exporter": "python",
   "pygments_lexer": "ipython3",
   "version": "3.7.4"
  }
 },
 "nbformat": 4,
 "nbformat_minor": 2
}
